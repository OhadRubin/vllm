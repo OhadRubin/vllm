{
 "cells": [
  {
   "cell_type": "code",
   "execution_count": 1,
   "metadata": {},
   "outputs": [],
   "source": [
    "import datasets"
   ]
  },
  {
   "cell_type": "code",
   "execution_count": 11,
   "metadata": {},
   "outputs": [],
   "source": [
    "ds = datasets.load_dataset(\"iohadrubin/reorder_thoughts_v1\",\n",
    "                               \"default\"\n",
    "                               )[\"train\"]"
   ]
  },
  {
   "cell_type": "code",
   "execution_count": null,
   "metadata": {},
   "outputs": [],
   "source": [
    "python3.10 examples/run_on_dataset_async.py --dataset_name iohadrubin/reorder_thoughts_v1 --config_name default  --num_workers 16 \\\n",
    "        --max_tokens 4096 --suffix _v3  --verbose True --temperature 0 --split train --drop_last_msg True"
   ]
  },
  {
   "cell_type": "code",
   "execution_count": 13,
   "metadata": {},
   "outputs": [
    {
     "data": {
      "text/plain": [
       "33420"
      ]
     },
     "execution_count": 13,
     "metadata": {},
     "output_type": "execute_result"
    }
   ],
   "source": [
    "len(ds)"
   ]
  },
  {
   "cell_type": "code",
   "execution_count": 14,
   "metadata": {},
   "outputs": [
    {
     "data": {
      "text/plain": [
       "{'messages': [{'content': '\\nline 01 |  \\nline 02 |  \\nline 03 | Have students practice writing and solving one step equations and inequalities! This worksheet can make for a quick review or a helpful station activity. Students can work independently, in pairs, or in groups to solve the problems.\\nline 04 | Teachers Pay Teachers is an online marketplace where teachers buy and sell original educational materials.\\nline 05 | Are you getting the free resources, updates, and special offers we send out every week in our teacher newsletter?\\nline 06 |  \\n\\nThought: \"Hmm, this seems like a good activity for students.\"\\nThought: \"It looks like it can be used for review or as a station activity.\"\\nThought: \"It says students can work alone or in pairs or groups to solve the problems.\"\\nThought: \"That\\'s pretty flexible.\"\\nThought: \"I don\\'t see any specific instructions for how to pace the activity or how long it should take.\"\\nThought: \"That\\'s up to the teacher\\'s discretion I guess.\"\\nThought: \"Overall, seems like a solid resource for teachers to use in their classrooms.\"\\nThought: \"Judging by this line, it looks like Teachers Pay Teachers is some kind of marketplace for educational materials.\"\\nThought: \"That\\'s interesting, I hadn\\'t heard of this before.\"\\nThought: \"It says teachers can buy and sell original materials on this platform.\"\\nThought: \"I\\'m wondering if it\\'s targeted just towards K-12 teachers or if higher ed faculty can use it too?\"\\nThought: \"It might be worth checking out if I ever need new teaching resources.\"\\nThought: \"Curious if there\\'s a review process for materials posted on here.\"\\nThought: \"I bet some stuff on there might be pretty low quality.\"\\nThought: \"But there will probably also be high quality materials too.\"\\nThought: \"Looks like they\\'re asking if I\\'ve signed up for their newsletter.\"\\nThought: \"Seems like a good way to stay up to date on new materials and offers.\"\\nThought: \"I\\'ll go ahead and do that.\"\\nThought: \"But I\\'m also wondering if there are any downsides to joining?\"\\nThought: \"Like will I get a ton of spam emails or something?\"\\nThought: \"I hope not.\"\\nThought: \"Guess I\\'ll find out when I sign up.\"\\nThought: \"That\\'s the end of the excerpt.\"\\nThought: \"Overall, I think it was a decent resource for teachers.\"\\nThought: \"The activity seems like it could be helpful in the classroom.\"\\nThought: \"And I\\'m considering checking out Teachers Pay Teachers for myself.\"\\nThought: \"Also decided to sign up for the newsletter to see if it\\'s useful.\"\\nThought: \"So I guess this task is finished now.\"\\nThought: \"I hope my thinking out loud helped make the excerpt clearer.\"\\nThought: \"Anyways, I\\'m done talking through this. Thanks for listening.\"\\n _ _\\n\\nIt\\'s funny how these days, the word \\'thinking out loud\\' is almost always associated with a book and a TV show, but the expression itself has been around since at least the late 19th century. It\\'s a way of expressing a thought that you haven\\'t fully formed, but you\\'re working on it, and you\\'re letting others know that you\\'re still figuring things out. It can also be a way of exposing your thought process, to let others see how you came to a particular conclusion. In this experiment, we\\'ll be using \\'thinking out loud\\' to get a closer look at the various thought processes that go into analyzing an excerpt of text.\\n\\nTranscription format:\\nThought: \"Ok, they want me to think out loud about this text excerpt.\"\\nThought: \"I should also pretend a layman is listening to me.\"\\nThought: \"Oh, nice, this is about my field of expertise.\"\\nThought: \"I think I even read this before during my PhD.\"\\nThought: \"I\\'ll try to give my unique interpretation of it and explain all the non-obvious parts.\"\\nThought: \"Hmm, this seems like a good activity for students.\"\\nThought: \"It looks like it can be used for review or as a station activity.\"\\nThought: \"It says students can work alone or in pairs or groups to solve the problems.\"\\nThought: \"That\\'s pretty flexible.\"\\nThought: \"I don\\'t see any specific instructions for how to pace the activity or how long it should take.\"\\nThought: \"That\\'s up to the teacher\\'s discretion I guess.\"\\nThought: \"Overall, seems like a solid resource for teachers to use in their classrooms.\"\\nThought: \"Judging by this line, it looks like Teachers Pay Teachers is some kind of marketplace for educational materials.\"\\nThought: \"That\\'s interesting, I hadn\\'t heard of this before.\"\\nThought: \"It says teachers can buy and sell original materials on this platform.\"\\nThought: \"I\\'m wondering if it\\'s targeted just towards K-12 teachers or if higher ed faculty can use it too?\"\\nThought: \"It might be worth checking out if I ever need new teaching resources.\"\\nThought: \"Curious if there\\'s a review process for materials posted on here.\"\\nThought: \"I bet some stuff on there might be pretty low quality.\"\\nThought: \"But there will probably also be high quality materials too.\"\\nThought: \"Looks like they\\'re asking if I\\'ve signed up for their newsletter.\"\\nThought: \"Seems like a good way to stay up to date on new materials and offers.\"\\nThought: \"I\\'ll go ahead and do that.\"\\nThought: \"But I\\'m also wondering if there are any downsides to joining?\"\\nThought: \"Like will I get a ton of spam emails or something?\"\\nThought: \"I hope not.\"\\nThought: \"Guess I\\'ll find out when I sign up.\"\\nThought: \"That\\'s the end of the excerpt.\"\\nThought: \"Overall, I think it was a decent resource for teachers.\"\\nThought: \"The activity seems like it could be helpful in the classroom.\"\\nThought: \"And I\\'m considering checking out Teachers Pay Teachers for myself.\"\\nThought: \"Also decided to sign up for the newsletter to see if it\\'s useful.\"\\nThought: \"So I guess this task is finished now.\"\\nThought: \"I hope my thinking out loud helped make the excerpt clearer.\"\\nThought: \"Anyways, I\\'m done talking through this. Thanks for listening.\"\\n\\n\\n\\n\\nTranscription format:\\nThought: \"Ok, they want me to think out loud about this text excerpt.\"\\nThought: \"I should also pretend a layman is listening to me.\"\\nThought: \"Oh, nice, this is about my field of expertise.\"\\nThought: \"I think I even read this before during my PhD.\"\\nThought: \"I\\'ll try to give my unique interpretation of it and explain all the non-obvious parts.\"\\nThought: \"Hmm, this seems like a good activity for students.\"\\nThought: \"It looks like it can be used for review or as a station activity.\"\\nThought: \"It says students can work alone or in pairs or groups to solve the problems.\"\\nThought: \"That\\'s pretty flexible.\"\\nThought: \"I don\\'t see any specific instructions for how to pace the activity or how long it should take.\"\\nThought: \"That\\'s up to the teacher\\'s discretion I guess.\"\\nThought: \"Overall, seems like a solid resource for teachers to use in their classrooms.\"\\nThought: \"Judging by this line, it looks like Teachers Pay Teachers is some kind of marketplace for educational materials.\"\\nThought: \"That\\'s interesting, I hadn\\'t heard of this before.\"\\nThought: \"It says teachers can buy and sell original materials on this platform.\"\\nThought: \"I\\'m wondering if it\\'s targeted just towards K-12 teachers or if higher ed faculty can use it too?\"\\nThought: \"It might be worth checking out if I ever need new teaching resources.\"\\nThought: \"Curious if there\\'s a review process for materials posted on here.\"\\nThought: \"I bet some stuff on there might be pretty low quality.\"\\nThought: \"But there will probably also be high quality materials too.\"\\nThought: \"Looks like they\\'re asking if I\\'ve signed up for their newsletter.\"\\nThought: \"Seems like a good way to stay up to date on new materials and offers.\"\\nThought: \"I\\'ll go ahead and do that.\"\\nThought: \"But I\\'m also wondering if there are any downsides to joining?\"\\nThought: \"Like will I get a ton of spam emails or something?\"\\nThought: \"I hope not.\"\\nThought: \"Guess I\\'ll find out when I sign up.\"\\nThought: \"That\\'s the end of the excerpt.\"\\nThought: \"Overall, I think it was a decent resource for teachers.\"\\nThought: \"The activity seems like it could be helpful in the classroom.\"\\nThought: \"And I\\'m considering checking out Teachers Pay Teachers for myself.\"\\nThought: \"Also decided to sign up for the newsletter to see if it\\'s useful.\"\\nThought: \"So I guess this task is finished now.\"\\nThought: \"I hope my thinking out loud helped make the excerpt clearer.\"\\nThought: \"Anyways, I\\'m done talking through this. Thanks for listening.\"\\n \\n\\n\\n\\n\\n\\n\\n\\n\\n\\n\\n\\n\\n\\n\\n\\n\\n\\n\\n\\n\\n\\n\\n\\n\\n\\n\\n\\n\\n\\n\\n\\n\\n\\n\\n\\n\\n\\n\\n\\n\\n\\n\\n\\n\\n\\n\\n\\n\\n\\n\\n\\n\\n\\n\\n\\n\\n\\n\\n\\n\\n\\n\\n\\n\\n\\n\\n\\n\\n\\n\\n\\n\\n\\n\\n\\n\\n\\n\\n\\n\\n\\n\\n\\n\\n\\n\\n\\n\\n\\n\\n\\n\\n\\n\\n\\n\\n\\n\\n\\n\\n\\n\\n\\n\\n\\n\\n\\n\\n\\n\\n\\n\\n\\n\\n\\n\\n\\n\\n\\n\\n\\n\\n\\n\\n\\n\\n\\n\\n\\n\\n\\n\\n\\n\\n\\n\\n\\n\\n\\n\\n\\n\\n\\n\\n\\n\\n\\n\\n\\n\\n\\n\\n\\n\\n\\n\\n\\n\\n\\n\\n\\n\\n\\n\\n\\n\\n\\n\\n\\n\\n\\n\\n\\n\\n\\n\\n\\n\\n\\n\\n\\n\\n\\n\\n\\n\\n\\n\\n\\n\\n\\n\\n\\n\\n\\n\\n\\n\\n\\n\\n\\n\\n\\n\\n\\n\\n\\n\\n\\n\\n\\n\\n\\n\\n\\n\\n\\n\\n\\n\\n\\n\\n\\n\\n\\n\\n\\n\\n\\n\\n\\n\\n\\n\\n\\n\\n\\n\\n\\n\\n\\n\\n\\n\\n\\n\\n\\n\\n\\n\\n\\n\\n\\n\\n\\n\\n\\n\\n\\n\\n\\n\\n\\n\\n\\n\\n\\n\\n\\n\\n\\n\\n\\n\\n\\n\\n\\n\\n\\n\\n\\n\\n\\n\\n\\n\\n\\n\\n\\n\\n\\n\\n\\n\\n\\n\\n\\n\\n\\n\\n\\n\\n\\n\\n\\n\\n\\n\\n\\n\\n\\n\\n\\n\\n\\n\\n\\n\\n\\n\\n\\n\\n\\n\\n\\n\\n\\n\\n\\n\\n\\n\\n\\n\\n\\n\\n\\n\\n\\n\\n\\n\\n\\n\\n\\n\\n\\n\\n\\n\\n\\n\\n\\n\\n\\n\\n\\n\\n\\n\\n\\n\\n\\n\\n\\n\\n\\n\\n\\n\\n\\n\\n\\n\\n\\n\\n\\n\\n\\n\\n\\n\\n\\n\\n\\n\\n\\n\\n\\n\\n\\n\\n\\n\\n\\n\\n\\n\\n\\n\\n\\n\\n\\n\\n\\n\\n\\n\\n\\n\\n\\n\\n\\n\\n\\n\\n\\n\\n\\n\\n\\n\\n\\n\\n\\n\\n\\n\\n\\n\\n\\n\\n\\n\\n\\n\\n\\n\\n\\n\\n\\n\\n\\n\\n\\n\\n\\n\\n\\n\\n\\n\\n\\n\\n\\n\\n\\n\\n\\n\\n\\n\\n\\n\\n\\n\\n\\n\\n\\n\\n\\n\\n\\n\\n\\n\\n\\n\\n\\n\\n\\n\\n\\n\\n\\n\\n\\n\\n\\n\\n\\n\\n\\n\\n\\n\\n\\n\\n\\n\\n\\n\\n\\n\\n\\n\\n\\n\\n\\n\\n\\n\\n\\n\\n\\n\\n\\n\\n\\n\\n\\n\\n\\n\\n\\n\\n\\n\\n\\n\\n\\n\\n\\n\\n\\n\\n\\n\\n\\n\\n\\n\\n\\n\\n\\n\\n\\n\\n\\n\\n\\n\\n\\n\\n\\n\\n\\n\\n\\n\\n\\n\\n\\n\\n\\n\\n\\n\\n\\n\\n\\n\\n00000\\n\\n\\n\\n\\n\\n\\n\\n\\n\\n\\n\\n\\n\\n\\n\\n\\n\\n\\n\\n\\n\\n\\n\\n\\n\\n\\n\\n\\n\\n\\n\\n\\n\\n\\n\\n\\n\\n\\n\\n\\n\\n\\n\\n\\n\\n\\n\\n\\n\\n\\n\\n\\n\\n\\n\\n\\n\\n\\n\\n\\n\\n\\n\\n\\n\\n\\n\\n\\n\\n\\n\\n\\n\\n\\n\\n\\n\\n\\n\\n\\n\\n\\n\\n\\n\\n\\n\\n\\n\\n\\n\\n\\n\\n\\n\\n\\n\\n\\n\\n\\n\\n\\n\\n\\n\\n\\n\\n\\n\\n\\n\\n\\n\\n\\n\\n\\n\\n\\n\\n\\n\\n\\n\\n\\n\\n\\n\\n\\n\\n\\n\\n\\n\\n\\n\\n\\n\\n\\n\\n\\n\\n\\n\\n\\n\\n\\n\\n\\n\\n\\n\\n\\n\\n\\n\\n\\n\\n\\n\\n\\n\\n\\n\\n\\n\\n\\n\\n\\n\\n\\n\\n\\n\\n\\n\\n\\n\\n\\n\\n\\n\\n\\n\\n\\n\\n\\n\\n\\n\\n\\n\\n\\n\\n\\n\\n\\n\\n\\n\\n\\n\\n\\n\\n\\n\\n\\n\\n\\n\\n\\n\\n\\n\\n\\n\\n\\n\\n\\n\\n\\n\\n\\n\\n\\n\\n\\n\\n\\n\\n\\n\\n\\n\\n\\n\\n\\n\\n\\n\\n\\n\\n\\n\\n\\n\\n\\n\\n\\n\\n\\n\\n\\n\\n\\n\\n\\n\\n\\n\\n\\n\\n\\n\\n\\n\\n\\n\\n\\n\\n\\n\\n\\n\\n\\n\\n\\n\\n\\n\\n\\n\\n\\n\\n\\n\\n\\n\\n\\n\\n\\n\\n\\n\\n\\n\\n\\n\\n\\n\\n\\n\\n\\n\\n\\n\\n\\n\\n\\n\\n\\n\\n\\n\\n\\n\\n\\n\\n\\n\\n\\n\\n\\n\\n\\n\\n\\n\\n\\n\\n\\n\\n\\n\\n\\n\\n\\n\\n\\n\\n\\n\\n\\n\\n\\n\\n\\n\\n\\n\\n\\n\\n\\n\\n\\n\\n\\n\\n\\n\\n\\n\\n\\n\\n\\n\\n\\n\\n\\n\\n\\n\\n\\n\\n\\n\\n\\n\\n\\n\\n\\n\\n\\n\\n\\n\\n\\n\\n\\n\\n\\n\\n\\n\\n\\n\\n\\n\\n\\n\\n\\n\\n\\n\\n\\n\\n\\n\\n\\n\\n\\n\\n\\n\\n\\n\\n\\n\\n\\n\\n\\n\\n\\n\\n\\n\\n\\n\\n\\n\\n\\n\\n\\n\\n\\n\\n\\n\\n\\n\\n\\n\\n\\n\\n\\n\\n\\n\\n\\n\\n\\n\\n\\n\\n\\n\\n\\n\\n\\n\\n\\n\\n\\n\\n\\n\\n\\n\\n\\n\\n\\n\\n00000\\n\\n\\n\\n\\n\\n\\n\\n\\n\\n\\n\\n\\n\\n\\n\\n\\n\\n\\n\\n\\n\\n\\n\\n\\n\\n\\n\\n\\n\\n\\n\\n\\n\\n\\n\\n\\n\\n\\n\\n\\n\\n\\n\\n\\n\\n\\n\\n\\n\\n\\n\\n\\n\\n\\n\\n\\n\\n\\n\\n\\n\\n\\n\\n\\n\\n\\n\\n\\n\\n\\n\\n\\n\\n\\n\\n\\n\\n\\n\\n\\n\\n\\n\\n\\n\\n\\n\\n\\n\\n\\n\\n\\n\\n\\n\\n\\n\\n\\n\\n\\n\\n\\n\\n\\n\\n\\n\\n\\n\\n\\n\\n\\n\\n\\n\\n\\n\\n\\n\\n\\n\\n\\n\\n\\n\\n\\n\\n\\n\\n\\n\\n\\n\\n\\n\\n\\n\\n\\n\\n\\n\\n\\n\\n\\n\\n\\n\\n\\n\\n\\n\\n\\n\\n\\n\\n\\n\\n\\n\\n\\n\\n\\n\\n\\n\\n\\n\\n\\n\\n\\n\\n\\n\\n\\n\\n\\n\\n\\n\\n\\n\\n\\n\\n\\n\\n\\n\\n\\n\\n\\n\\n\\n\\n\\n\\n\\n\\n\\n\\n\\n\\n\\n\\n\\n\\n\\n\\n\\n\\n\\n\\n\\n\\n\\n\\n\\n\\n\\n\\n\\n\\n\\n\\n\\n\\n\\n\\n\\n\\n\\n\\n\\n\\n\\n\\n\\n\\n\\n\\n\\n\\n\\n\\n\\n\\n\\n\\n\\n\\n\\n\\n\\n\\n\\n\\n',\n",
       "   'role': 'user'},\n",
       "  {'content': 'line 01 |   \\nThought: \"Ok, they want me to think out loud about this text excerpt.\"\\nThought: \"I should also pretend a layman is listening to me.\"\\nline 02 |   \\nThought: \"Oh, nice, this is about my field of expertise.\"\\nThought: \"I think I even read this before during my PhD.\"\\nThought: \"I\\'ll try to give my unique interpretation of it and explain all the non-obvious parts.\"\\nline 03 |  Have students practice writing and solving one step equations and inequalities! This worksheet can make for a quick review or a helpful station activity. Students can work independently, in pairs, or in groups to solve the problems.\\nThought: \"Hmm, this seems like a good activity for students.\"\\nThought: \"It looks like it can be used for review or as a station activity.\"\\nThought: \"It says students can work alone or in pairs or groups to solve the problems.\"\\nThought: \"That\\'s pretty flexible.\"\\nThought: \"I don\\'t see any specific instructions for how to pace the activity or how long it should take.\"\\nThought: \"That\\'s up to the teacher\\'s discretion I guess.\"\\nThought: \"Overall, seems like a solid resource for teachers to use in their classrooms.\"\\nline 04 |  Teachers Pay Teachers is an online marketplace where teachers buy and sell original educational materials.\\nThought: \"Judging by this line, it looks like Teachers Pay Teachers is some kind of marketplace for educational materials.\"\\nThought: \"That\\'s interesting, I hadn\\'t heard of this before.\"\\nThought: \"It says teachers can buy and sell original materials on this platform.\"\\nThought: \"I\\'m wondering if it\\'s targeted just towards K-12 teachers or if higher ed faculty can use it too?\"\\nThought: \"It might be worth checking out if I ever need new teaching resources.\"\\nThought: \"Curious if there\\'s a review process for materials posted on here.\"\\nThought: \"I bet some stuff on there might be pretty low quality.\"\\nThought: \"But there will probably also be high quality materials too.\"\\nline 05 |  Are you getting the free resources, updates, and special offers we send out every week in our teacher newsletter?\\nThought: \"Looks like they\\'re asking if I\\'ve signed up for their newsletter.\"\\nThought: \"Seems like a good way to stay up to date on new materials and offers.\"\\nThought: \"I\\'ll go ahead and do that.\"\\nThought: \"But I\\'m also wondering if there are any downsides to joining?\"\\nThought: \"Like will I get a ton of spam emails or something?\"\\nThought: \"I hope not.\"\\nThought: \"Guess I\\'ll find out when I sign up.\"\\nline 06 |   \\nThought: \"That\\'s the end of the excerpt.\"\\nThought: \"Overall, I think it was a decent resource for teachers.\"\\nThought: \"The activity seems like it could be helpful in the classroom.\"\\nThought: \"And I\\'m considering checking out Teachers Pay Teachers for myself.\"\\nThought: \"Also decided to sign up for the newsletter to see if it\\'s useful.\"\\nThought: \"So I guess this task is finished now.\"\\nThought: \"I hope my thinking out loud helped make the excerpt clearer.\"\\nThought: \"Anyways, I\\'m done talking through this. Thanks for listening.\"',\n",
       "   'role': 'assistant'}],\n",
       " 'example_id': 36538}"
      ]
     },
     "execution_count": 14,
     "metadata": {},
     "output_type": "execute_result"
    }
   ],
   "source": [
    "example"
   ]
  },
  {
   "cell_type": "code",
   "execution_count": 19,
   "metadata": {},
   "outputs": [
    {
     "name": "stdout",
     "output_type": "stream",
     "text": [
      "\n",
      "line 01 |  \n",
      "line 02 |  \n",
      "line 03 | What is it about?\n",
      "line 04 | since their inception, Pakistan and India are locked in an intractable conflict over acquiring prestige against each other. This conflict behaviour and the perception of enmity is directly informed by their indigenous culture of conflict found in the common institution of joint family. This article develops a conflict theory to explain the rationale behind such an emotion-laden rivalry between the two nations. The conflict theory presented in this article (which can be termed as Sharike-Bazi [Culture of Conflict]) explains that peoples’ conflict behaviours in Pakistan and India are rooted in their earliest socialisation within primary kinship institutions.\n",
      "line 05 | Photo by Specna Arms on Unsplash\n",
      "line 06 | Why is it important?\n",
      "line 07 | India and Pakistan can be termed as ‘patient’ states suffering from deep-seated trauma of ‘separation’ from each other. They are prisoners of ‘I am not respected’ and ‘I am wronged’ syndromes, respectively. This paper has examined that the collective hysteria existing in both nations to hate and compete with each other has cultural origins, characteristics and mechanisms (or ‘operating system) emanating from their indigenous culture of conflict at the family level.\n",
      "line 08 | Read the Original\n",
      "line 09 | This page is a summary of: Perceiving the Enemy Differently: A Psycho-cultural Analysis of Pakistan–India Conflict, Journal of Asian Security and International Affairs, June 2019, SAGE Publications, DOI: 10.1177/2347797019842445.\n",
      "line 10 | You can read the full text:\n",
      "line 11 | The following have contributed to this page\n",
      "line 12 |  \n",
      "\n",
      "Thought: \"Hmmm...they say 'Pakistan' and 'India' are locked in some kind of 'conflict' since they started.\"\n",
      "Thought: \"Well, I guess that makes sense, India and Pakistan have a history of hostility.\"\n",
      "Thought: \"But what's interesting is they say this 'conflict' is informed by something called 'indigenous culture of conflict'.\"\n",
      "Thought: \"I've never heard of that before, I wonder what they're talking about.\"\n",
      "Thought: \"Ok, here they define what they mean by 'indigenous culture of conflict'.\"\n",
      "Thought: \"They say it's found in something called 'joint family', which I assume means an extended family unit.\"\n",
      "Thought: \"Alright, so basically they're saying that Pakistanis and Indians learn from an early age how to fight and compete with each other in their families, and this shapes their attitudes towards each other as nations.\"\n",
      "Thought: \"That's an interesting theory, I wonder if they provide any evidence for it.\"\n",
      "Thought: \"Oh, I guess there's a photo too...I'm not sure what it has to do with the topic though.\"\n",
      "Thought: \"They ask why this is important...hmmm...\"\n",
      "Thought: \"Well, I suppose understanding the origins of conflict between nations is always important for trying to resolve it.\"\n",
      "Thought: \"But also, it's interesting to think about how culture influences politics and international relations.\"\n",
      "Thought: \"I'll come back to that later on.\"\n",
      "Thought: \"Here they talk about how India and Pakistan are 'patients' suffering from deep 'separation' trauma.\"\n",
      "Thought: \"I'm not sure I agree with that analogy...it seems a bit overdramatic to me.\"\n",
      "Thought: \"But they do make the point that both countries have strong feelings of resentment towards each other.\"\n",
      "Thought: \"That part at least sounds plausible to me.\"\n",
      "Thought: \"Ok, here they recommend reading the original paper for more detail.\"\n",
      "Thought: \"I might do that myself actually...I'm curious to see what evidence they present for their claims.\"\n",
      "Thought: \"Ah, here they give the citation for the original paper, looks like it was published by SAGE last year.\"\n",
      "Thought: \"I'll have to look it up when I get home...\"\n",
      "Thought: \"Ok, now they summarize what the paper argues.\"\n",
      "Thought: \"Basically, it says that the way people think about and act towards each other as members of these two countries is shaped by specific ideas, beliefs, and behaviors that are rooted in their shared cultural background.\"\n",
      "Thought: \"And specifically, it says that the roots of this conflict can be found in the ways families are organized and function within Pakistani and Indian society.\"\n",
      "Thought: \"Again, that's a pretty interesting claim...I wonder where they get their data from?\"\n",
      "Thought: \"It looks like this page was written by someone named Dr. Shuja Nawaz, who is an author at SAGE.\"\n",
      "Thought: \"Might be worth looking him up, see if he has other work on this topic.\"\n",
      "Thought: \"Alright, I think that covers everything in this excerpt.\"\n"
     ]
    }
   ],
   "source": [
    "example = ds[2]\n",
    "print(example[\"messages\"][:-1][0][\"content\"])"
   ]
  },
  {
   "cell_type": "code",
   "execution_count": 20,
   "metadata": {},
   "outputs": [
    {
     "name": "stdout",
     "output_type": "stream",
     "text": [
      "line 01 |  \n",
      "line 02 |  \n",
      "line 03 | What is it about?\n",
      "Thought: \"Hmmm...they say 'Pakistan' and 'India' are locked in some kind of 'conflict' since they started.\"\n",
      "Thought: \"Well, I guess that makes sense, India and Pakistan have a history of hostility.\"\n",
      "line 04 | since their inception, Pakistan and India are locked in an intractable conflict over acquiring prestige against each other. This conflict behaviour and the perception of enmity is directly informed by their indigenous culture of conflict found in the common institution of joint family. This article develops a conflict theory to explain the rationale behind such an emotion-laden rivalry between the two nations. The conflict theory presented in this article (which can be termed as Sharike-Bazi [Culture of Conflict]) explains that peoples’ conflict behaviours in Pakistan and India are rooted in their earliest socialisation within primary kinship institutions.\n",
      "Thought: \"But what's interesting is they say this 'conflict' is informed by something called 'indigenous culture of conflict'.\"\n",
      "Thought: \"I've never heard of that before, I wonder what they're talking about.\"\n",
      "Thought: \"Ok, here they define what they mean by 'indigenous culture of conflict'.\"\n",
      "Thought: \"They say it's found in something called 'joint family', which I assume means an extended family unit.\"\n",
      "Thought: \"Alright, so basically they're saying that Pakistanis and Indians learn from an early age how to fight and compete with each other in their families, and this shapes their attitudes towards each other as nations.\"\n",
      "Thought: \"That's an interesting theory, I wonder if they provide any evidence for it.\"\n",
      "line 05 | Photo by Specna Arms on Unsplash\n",
      "Thought: \"Oh, I guess there's a photo too...I'm not sure what it has to do with the topic though.\"\n",
      "line 06 | Why is it important?\n",
      "Thought: \"They ask why this is important...hmmm...\"\n",
      "Thought: \"Well, I suppose understanding the origins of conflict between nations is always important for trying to resolve it.\"\n",
      "Thought: \"But also, it's interesting to think about how culture influences politics and international relations.\"\n",
      "Thought: \"I'll come back to that later on.\"\n",
      "line 07 | India and Pakistan can be termed as ‘patient’ states suffering from deep-seated trauma of ‘separation’ from each other. They are prisoners of ‘I am not respected’ and ‘I am wronged’ syndromes, respectively. This paper has examined that the collective hysteria existing in both nations to hate and compete with each other has cultural origins, characteristics and mechanisms (or ‘operating system) emanating from their indigenous culture of conflict at the family level.\n",
      "Thought: \"Here they talk about how India and Pakistan are 'patients' suffering from deep 'separation' trauma.\"\n",
      "Thought: \"I'm not sure I agree with that analogy...it seems a bit overdramatic to me.\"\n",
      "Thought: \"But they do make the point that both countries have strong feelings of resentment towards each other.\"\n",
      "Thought: \"That part at least sounds plausible to me.\"\n",
      "line 08 | Read the Original\n",
      "Thought: \"Ok, here they recommend reading the original paper for more detail.\"\n",
      "Thought: \"I might do that myself actually...I'm curious to see what evidence they present for their claims.\"\n",
      "line 09 | This page is a summary of: Perceiving the Enemy Differently: A Psycho-cultural Analysis of Pakistan–India Conflict, Journal of Asian Security and International Affairs, June 2019, SAGE Publications, DOI: 10.1177/2347797019842445.\n",
      "Thought: \"Ah, here they give the citation for the original paper, looks like it was published by SAGE last year.\"\n",
      "Thought: \"I'll have to look it up when I get home...\"\n",
      "line 10 | You can read the full text:\n",
      "line 11 | The following have contributed to this page\n",
      "line 12 |  \n",
      "Thought: \"Ok, now they summarize what the paper argues.\"\n",
      "Thought: \"Basically, it says that the way people think about and act towards each other as members of these two countries is shaped by specific ideas, beliefs, and behaviors that are rooted in their shared cultural background.\"\n",
      "Thought: \"And specifically, it says that the roots of this conflict can be found in the ways families are organized and function within Pakistani and Indian society.\"\n",
      "Thought: \"Again, that's a pretty interesting claim...I wonder where they get their data from?\"\n",
      "Thought: \"It looks like this page was written by someone named Dr. Shuja Nawaz, who is an author at SAGE.\"\n",
      "Thought: \"Might be worth looking him up, see if he has other work on this topic.\"\n",
      "Thought: \"Alright, I think that covers everything in this excerpt.\"\n"
     ]
    }
   ],
   "source": [
    "import requests\n",
    "import os\n",
    "\n",
    "url = \"https://v4-16-node-17.ohadrubin.com/v1/chat/completions\"\n",
    "headers = {\n",
    "    \"Content-Type\": \"application/json\",\n",
    "    \"Authorization\": f\"Bearer {os.environ['OPENROUTER_API_KEY']}\"\n",
    "}\n",
    "data = {\n",
    "    \"model\": \"meta-llama/Llama-3.1-8B-Instruct\",\n",
    "    \"max_tokens\": 1000,\n",
    "    # \"messages\": [\n",
    "    #     {\n",
    "    #         \"role\": \"user\", \n",
    "    #         \"content\": \"What is the meaning of life?\"\n",
    "    #     }\n",
    "    # ]\n",
    "    \"messages\": example[\"messages\"][:-1]\n",
    "}\n",
    "\n",
    "response = requests.post(url, headers=headers, json=data).json()\n",
    "print(response[\"choices\"][0][\"message\"][\"content\"])"
   ]
  }
 ],
 "metadata": {
  "kernelspec": {
   "display_name": "Python 3",
   "language": "python",
   "name": "python3"
  },
  "language_info": {
   "codemirror_mode": {
    "name": "ipython",
    "version": 3
   },
   "file_extension": ".py",
   "mimetype": "text/x-python",
   "name": "python",
   "nbconvert_exporter": "python",
   "pygments_lexer": "ipython3",
   "version": "3.10.14"
  }
 },
 "nbformat": 4,
 "nbformat_minor": 2
}
